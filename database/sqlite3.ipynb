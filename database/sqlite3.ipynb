{
 "cells": [
  {
   "cell_type": "code",
   "execution_count": 13,
   "metadata": {},
   "outputs": [],
   "source": [
    "# dependencies\n",
    "import sqlite3\n",
    "import pandas as pd"
   ]
  },
  {
   "cell_type": "code",
   "execution_count": 14,
   "metadata": {},
   "outputs": [],
   "source": [
    "# connect to loan_application_data.db\n",
    "conn = sqlite3.connect('loan_application_data.db')\n",
    "c = conn.cursor()"
   ]
  },
  {
   "cell_type": "code",
   "execution_count": 18,
   "metadata": {},
   "outputs": [],
   "source": [
    "# create tables\n",
    "c.execute(\"\"\" CREATE TABLE IF NOT EXISTS loan_data (\n",
    "                                        ID integer,\n",
    "                                        business_or_commercial integer,\n",
    "                                        loan_amount float,\n",
    "                                        rate_of_interest float,\n",
    "                                        term integer,\n",
    "                                        interest_only integer,\n",
    "                                        property_value float,\n",
    "                                        income float,\n",
    "                                        credit_score integer,\n",
    "                                        age integer,\n",
    "                                        ltv float,\n",
    "                                        dtir1 float,\n",
    "                                        status integer,\n",
    "                                        PRIMARY KEY (ID)\n",
    "                                        ) \"\"\")\n",
    "\n",
    "c.execute(\"\"\" CREATE TABLE IF NOT EXISTS mytrix_data (\n",
    "                                        BaslineName text NOT NULL, \n",
    "                                        Accuracy float,\n",
    "                                        Precision float,\n",
    "                                        MCC float,\n",
    "                                        PPV float,\n",
    "                                        NPV float,\n",
    "                                        Recall float,\n",
    "                                        PRIMARY KEY (BaslineName)\n",
    "                                        ) \"\"\")\n",
    "                                        \n",
    "\n",
    "loan_data = pd.read_csv((\"..//data//Loan_Default_knn_final.csv\"), dtype=object, encoding = 'utf8')\n",
    "performance_matrix = pd.read_csv((\"..//data//performance_matrix.csv\"), dtype=object, encoding = 'utf8')\n",
    "\n",
    "loan_data.to_sql('loan_data', conn, if_exists='replace', index = False)\n",
    "performance_matrix.to_sql('mytrix_data', conn, if_exists='replace', index = False)"
   ]
  },
  {
   "cell_type": "code",
   "execution_count": 6,
   "metadata": {},
   "outputs": [
    {
     "name": "stdout",
     "output_type": "stream",
     "text": [
      "('loan_data',)\n",
      "('mytrix_data',)\n"
     ]
    }
   ],
   "source": [
    "c.execute(\"\"\"SELECT name FROM sqlite_master WHERE type ='table' AND name NOT LIKE 'sqlite_%';\"\"\")\n",
    "for row in c.fetchall():\n",
    "    print(row)"
   ]
  },
  {
   "cell_type": "code",
   "execution_count": 15,
   "metadata": {},
   "outputs": [
    {
     "name": "stdout",
     "output_type": "stream",
     "text": [
      "('ExtraTrees', 0.877517407, 0.84516129, 0.459197669, 0.84516129, 0.879510412, 0.301704284, 0.44467074, 'green', 1)\n",
      "('KNeighbors', 0.843789773, 0.547445255, 0.278832948, 0.547445255, 0.864958088, 0.224550898, 0.318471338, 'deeppink', 2)\n",
      "('XGBoost', 0.97578049, 0.984272608, 0.909102792, 0.984272608, 0.974365693, 0.864808844, 0.920681623, 'red', 3)\n",
      "('DecisionTree', 0.94714382, 0.94714382, 0.807897389, 0.829065588, 0.970757344, 0.850069093, 0.839435979, 'yellow', 4)\n",
      "('RandomForest', 0.927341469, 0.901370779, 0.711069494, 0.901370779, 0.930615858, 0.620912022, 0.73530615, 'blue', 5)\n",
      "('GradientBoosting', 0.943999401, 0.974017322, 0.782602299, 0.974017322, 0.940199055, 0.673422386, 0.796296296, 'black', 6)\n"
     ]
    }
   ],
   "source": [
    "c.execute(\"\"\" SELECT * FROM mytrix_data \"\"\")\n",
    "\n",
    "for row in c.fetchall():\n",
    "        print (row)"
   ]
  },
  {
   "cell_type": "code",
   "execution_count": 11,
   "metadata": {},
   "outputs": [],
   "source": [
    "c.execute(\"\"\" SELECT * FROM loan_data \"\"\")\n",
    "\n",
    "for row in c.fetchall():\n",
    "        print (row)"
   ]
  },
  {
   "cell_type": "code",
   "execution_count": 9,
   "metadata": {},
   "outputs": [],
   "source": [
    "conn.close()"
   ]
  }
 ],
 "metadata": {
  "kernelspec": {
   "display_name": "Python 3.7.13 ('bootcamp')",
   "language": "python",
   "name": "python3"
  },
  "language_info": {
   "codemirror_mode": {
    "name": "ipython",
    "version": 3
   },
   "file_extension": ".py",
   "mimetype": "text/x-python",
   "name": "python",
   "nbconvert_exporter": "python",
   "pygments_lexer": "ipython3",
   "version": "3.7.13"
  },
  "orig_nbformat": 4,
  "vscode": {
   "interpreter": {
    "hash": "f558debdfaba676aff5dab4f39c140e6991e3cee48166dee3f538a0f8087c214"
   }
  }
 },
 "nbformat": 4,
 "nbformat_minor": 2
}
